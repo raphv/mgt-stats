{
 "cells": [
  {
   "cell_type": "markdown",
   "id": "217f3a03",
   "metadata": {},
   "source": [
    "# An empty notebook with library imports"
   ]
  },
  {
   "cell_type": "code",
   "execution_count": 1,
   "id": "faaff792",
   "metadata": {},
   "outputs": [],
   "source": [
    "import pandas, numpy\n",
    "from scipy import stats"
   ]
  },
  {
   "cell_type": "code",
   "execution_count": null,
   "id": "b38d94e1",
   "metadata": {},
   "outputs": [],
   "source": [
    "dataset = pandas.read_csv(...)"
   ]
  }
 ],
 "metadata": {
  "kernelspec": {
   "display_name": "Python 3 (ipykernel)",
   "language": "python",
   "name": "python3"
  },
  "language_info": {
   "codemirror_mode": {
    "name": "ipython",
    "version": 3
   },
   "file_extension": ".py",
   "mimetype": "text/x-python",
   "name": "python",
   "nbconvert_exporter": "python",
   "pygments_lexer": "ipython3",
   "version": "3.9.7"
  }
 },
 "nbformat": 4,
 "nbformat_minor": 5
}
